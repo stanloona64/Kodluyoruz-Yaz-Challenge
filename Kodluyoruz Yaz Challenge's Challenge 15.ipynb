{
 "cells": [
  {
   "cell_type": "code",
   "execution_count": 1,
   "id": "5c0a4fe0",
   "metadata": {},
   "outputs": [
    {
     "name": "stdout",
     "output_type": "stream",
     "text": [
      "Bir cümle giriniz: Kodluyoruz'u seviyorum\n"
     ]
    }
   ],
   "source": [
    "text=input(\"Bir cümle giriniz: \")"
   ]
  },
  {
   "cell_type": "code",
   "execution_count": 2,
   "id": "fdd0b426",
   "metadata": {},
   "outputs": [
    {
     "name": "stdout",
     "output_type": "stream",
     "text": [
      "en çok tekrar eden harf: u tekrar etme sayısı: 4\n"
     ]
    }
   ],
   "source": [
    "unique=[]\n",
    "max_num=0\n",
    "for a in text:\n",
    "    count=0\n",
    "    if a not in unique:\n",
    "        temp=a\n",
    "        for b in text:\n",
    "            if temp == b:\n",
    "                count+=1\n",
    "        if count > max_num:\n",
    "            max_num=count\n",
    "            max_letter=temp\n",
    "        unique.append(temp)\n",
    "    else:\n",
    "        continue\n",
    "print(\"en çok tekrar eden harf: {} tekrar etme sayısı: {}\".format(max_letter,max_num))"
   ]
  }
 ],
 "metadata": {
  "kernelspec": {
   "display_name": "Python 3 (ipykernel)",
   "language": "python",
   "name": "python3"
  },
  "language_info": {
   "codemirror_mode": {
    "name": "ipython",
    "version": 3
   },
   "file_extension": ".py",
   "mimetype": "text/x-python",
   "name": "python",
   "nbconvert_exporter": "python",
   "pygments_lexer": "ipython3",
   "version": "3.9.13"
  }
 },
 "nbformat": 4,
 "nbformat_minor": 5
}
